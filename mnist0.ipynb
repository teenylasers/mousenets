{
  "nbformat": 4,
  "nbformat_minor": 0,
  "metadata": {
    "colab": {
      "name": "mnist0.ipynb",
      "provenance": [],
      "collapsed_sections": [],
      "authorship_tag": "ABX9TyNPE+DHFr16c0rXzlzpsljk"
    },
    "kernelspec": {
      "name": "python3",
      "display_name": "Python 3"
    }
  },
  "cells": [
    {
      "cell_type": "markdown",
      "metadata": {
        "id": "Iaxyao85dvcX",
        "colab_type": "text"
      },
      "source": [
        "# MNIST Classification using Fully Connected Neural Nets\n",
        "\n",
        "This is a learning implementation based on [this article](https://medium.com/tebs-lab/how-to-classify-mnist-digits-with-different-neural-network-architectures-39c75a0f03e3). We use Keras API, from which the composite elements of the MLP comes readily implemented. "
      ]
    },
    {
      "cell_type": "code",
      "metadata": {
        "id": "FfFUJXYH__Tt",
        "colab_type": "code",
        "colab": {}
      },
      "source": [
        "import tensorflow as tf"
      ],
      "execution_count": null,
      "outputs": []
    },
    {
      "cell_type": "markdown",
      "metadata": {
        "id": "gBAqxVMZBK5g",
        "colab_type": "text"
      },
      "source": [
        "Load the MNIST dataset. "
      ]
    },
    {
      "cell_type": "code",
      "metadata": {
        "id": "TIYgkX4cB6ss",
        "colab_type": "code",
        "colab": {
          "base_uri": "https://localhost:8080/",
          "height": 119
        },
        "outputId": "660a5f99-4180-4753-c80f-d11dc4191c3f"
      },
      "source": [
        "mnist = tf.keras.datasets.mnist\n",
        "(x_train, y_train), (x_test, y_test) = mnist.load_data()\n",
        "# x_train, x_test: uint8 arrays of grayscale image data with shapes  (num_samples, 28, 28).  \n",
        "# y_train, y_test: uint8 arrays of digit labels (integers in range 0-9) with shapes (num_samples,).  \n",
        "print('x_train (training data) dimensions: ', x_train.shape)\n",
        "print('x_test (test data) dimensions: ', x_test.shape)\n",
        "print('y_train (training labels) dimensions: ', y_train.shape)\n",
        "print('y_test (test labels) dimensions: ', y_test.shape)"
      ],
      "execution_count": null,
      "outputs": [
        {
          "output_type": "stream",
          "text": [
            "Downloading data from https://storage.googleapis.com/tensorflow/tf-keras-datasets/mnist.npz\n",
            "11493376/11490434 [==============================] - 0s 0us/step\n",
            "x_train (training data) dimensions:  (60000, 28, 28)\n",
            "x_test (test data) dimensions:  (10000, 28, 28)\n",
            "y_train (training labels) dimensions:  (60000,)\n",
            "y_test (test labels) dimensions:  (10000,)\n"
          ],
          "name": "stdout"
        }
      ]
    },
    {
      "cell_type": "markdown",
      "metadata": {
        "id": "y7fPhge2eRfg",
        "colab_type": "text"
      },
      "source": [
        "Fully connected neural nets expect 1D vectors as inputs. Reshape the 2D images."
      ]
    },
    {
      "cell_type": "code",
      "metadata": {
        "id": "o8P0mFc0eQwX",
        "colab_type": "code",
        "colab": {
          "base_uri": "https://localhost:8080/",
          "height": 51
        },
        "outputId": "1bd5fd32-e83e-45c5-d8a1-7364bc6b2a62"
      },
      "source": [
        "image_vector_length = x_train.shape[1] * x_train.shape[2]\n",
        "x_train = x_train.reshape(x_train.shape[0],image_vector_length)\n",
        "x_test = x_test.reshape(x_test.shape[0], image_vector_length)\n",
        "print('x_train reshaped dimensions: ', x_train.shape)\n",
        "print('x_test reshaped dimensions: ', x_test.shape)"
      ],
      "execution_count": null,
      "outputs": [
        {
          "output_type": "stream",
          "text": [
            "x_train reshaped dimensions:  (60000, 784)\n",
            "x_test reshaped dimensions:  (10000, 784)\n"
          ],
          "name": "stdout"
        }
      ]
    },
    {
      "cell_type": "markdown",
      "metadata": {
        "id": "HdciAtx2f-zM",
        "colab_type": "text"
      },
      "source": [
        "The output of this classification net is categories. The miscategorization from a number to another is equally erroneous, whether the wrong number is close to or far away from the right number in value. Therefore we transform training and test labels from numbers to one-hot encoded vectors."
      ]
    },
    {
      "cell_type": "code",
      "metadata": {
        "id": "C9rxemXBf-eb",
        "colab_type": "code",
        "colab": {}
      },
      "source": [
        "num_classes = 10;\n",
        "y_train = tf.keras.utils.to_categorical(y_train, num_classes)\n",
        "y_test = tf.keras.utils.to_categorical(y_test, num_classes)"
      ],
      "execution_count": null,
      "outputs": []
    },
    {
      "cell_type": "markdown",
      "metadata": {
        "id": "z4Q8ZO_fkSXi",
        "colab_type": "text"
      },
      "source": [
        "We construct a fully-connected multilayer perception (MLP) with one hidden layer of 32 elements, each is a sigmoid function. The input layer is the reshaped vector of length image_vector_length. The output layer is a 10-element softmax.  "
      ]
    },
    {
      "cell_type": "code",
      "metadata": {
        "id": "UqfXFYQkCCIS",
        "colab_type": "code",
        "colab": {
          "base_uri": "https://localhost:8080/",
          "height": 221
        },
        "outputId": "d12deed6-1b15-4472-b336-e2c7d4e26f25"
      },
      "source": [
        "num_elements_l1 = 32 # layer 1, counting from but excluding input\n",
        "num_elements_l2 = 10 \n",
        "\n",
        "mlp = tf.keras.Sequential()\n",
        "mlp.add(tf.keras.Input(shape=(image_vector_length,)))\n",
        "mlp.add(tf.keras.layers.Dense(units=num_elements_l1, activation='sigmoid'))\n",
        "mlp.add(tf.keras.layers.Dense(units=num_elements_l2, activation='softmax'))\n",
        "mlp.summary()"
      ],
      "execution_count": null,
      "outputs": [
        {
          "output_type": "stream",
          "text": [
            "Model: \"sequential_2\"\n",
            "_________________________________________________________________\n",
            "Layer (type)                 Output Shape              Param #   \n",
            "=================================================================\n",
            "dense_4 (Dense)              (None, 32)                25120     \n",
            "_________________________________________________________________\n",
            "dense_5 (Dense)              (None, 10)                330       \n",
            "=================================================================\n",
            "Total params: 25,450\n",
            "Trainable params: 25,450\n",
            "Non-trainable params: 0\n",
            "_________________________________________________________________\n"
          ],
          "name": "stdout"
        }
      ]
    },
    {
      "cell_type": "markdown",
      "metadata": {
        "id": "E17OTNiWynBh",
        "colab_type": "text"
      },
      "source": [
        "Set up the MLP for training, train, plot results."
      ]
    },
    {
      "cell_type": "code",
      "metadata": {
        "id": "vTTm6GiWxEBT",
        "colab_type": "code",
        "colab": {
          "base_uri": "https://localhost:8080/",
          "height": 224
        },
        "outputId": "995b7061-0a4a-4ab2-fe4a-a24a09ad488f"
      },
      "source": [
        "mlp.compile(optimizer='sgd', loss='categorical_crossentropy', metrics=['accuracy'])\n",
        "history = mlp.fit(x_train, y_train, batch_size=128, epochs=5, verbose=True, validation_split=0.1)\n",
        "loss, accuracy = mlp.evaluate(x_test, y_test, verbose=True)"
      ],
      "execution_count": null,
      "outputs": [
        {
          "output_type": "stream",
          "text": [
            "Epoch 1/5\n",
            "422/422 [==============================] - 1s 3ms/step - loss: 1.3489 - accuracy: 0.6601 - val_loss: 0.9116 - val_accuracy: 0.8313\n",
            "Epoch 2/5\n",
            "422/422 [==============================] - 1s 2ms/step - loss: 0.8319 - accuracy: 0.8310 - val_loss: 0.6689 - val_accuracy: 0.8768\n",
            "Epoch 3/5\n",
            "422/422 [==============================] - 1s 2ms/step - loss: 0.6590 - accuracy: 0.8621 - val_loss: 0.5465 - val_accuracy: 0.8943\n",
            "Epoch 4/5\n",
            "422/422 [==============================] - 1s 2ms/step - loss: 0.5669 - accuracy: 0.8751 - val_loss: 0.4789 - val_accuracy: 0.8988\n",
            "Epoch 5/5\n",
            "422/422 [==============================] - 1s 2ms/step - loss: 0.5069 - accuracy: 0.8838 - val_loss: 0.4345 - val_accuracy: 0.9092\n",
            "313/313 [==============================] - 0s 1ms/step - loss: 0.4720 - accuracy: 0.8934\n"
          ],
          "name": "stdout"
        }
      ]
    },
    {
      "cell_type": "code",
      "metadata": {
        "id": "fjATXjIBJlhR",
        "colab_type": "code",
        "colab": {
          "base_uri": "https://localhost:8080/",
          "height": 357
        },
        "outputId": "b8c18e5c-cd23-4ccf-d962-365ad8fd001c"
      },
      "source": [
        "history.history"
      ],
      "execution_count": null,
      "outputs": [
        {
          "output_type": "execute_result",
          "data": {
            "text/plain": [
              "{'accuracy': [0.6600555777549744,\n",
              "  0.8309999704360962,\n",
              "  0.8620926141738892,\n",
              "  0.8750555515289307,\n",
              "  0.883814811706543],\n",
              " 'loss': [1.348915696144104,\n",
              "  0.8318608403205872,\n",
              "  0.6589789390563965,\n",
              "  0.5668712258338928,\n",
              "  0.5068874955177307],\n",
              " 'val_accuracy': [0.831333339214325,\n",
              "  0.8768333196640015,\n",
              "  0.8943333625793457,\n",
              "  0.8988333344459534,\n",
              "  0.909166693687439],\n",
              " 'val_loss': [0.911607027053833,\n",
              "  0.6688682436943054,\n",
              "  0.5464733839035034,\n",
              "  0.4788651466369629,\n",
              "  0.4344545602798462]}"
            ]
          },
          "metadata": {
            "tags": []
          },
          "execution_count": 25
        }
      ]
    },
    {
      "cell_type": "code",
      "metadata": {
        "id": "8905bteKQVI0",
        "colab_type": "code",
        "colab": {
          "base_uri": "https://localhost:8080/",
          "height": 329
        },
        "outputId": "70b6e801-6e4c-4a82-f1bb-4f8f43812bce"
      },
      "source": [
        "plt.plot(history.history['accuracy'])\n",
        "plt.plot(history.history['val_accuracy'])\n",
        "plt.title('model accuracy')\n",
        "plt.ylabel('accuracy')\n",
        "plt.xlabel('epoch')\n",
        "plt.legend(['training', 'validation'], loc='best')\n",
        "plt.show()\n",
        "\n",
        "print(f'Test loss: {loss:.3}')\n",
        "print(f'Test accuracy: {accuracy:.3}')"
      ],
      "execution_count": null,
      "outputs": [
        {
          "output_type": "display_data",
          "data": {
            "image/png": "[encoded data removed]",
            "text/plain": [
              "<Figure size 432x288 with 1 Axes>"
            ]
          },
          "metadata": {
            "tags": [],
            "needs_background": "light"
          }
        },
        {
          "output_type": "stream",
          "text": [
            "Test loss: 0.472\n",
            "Test accuracy: 0.893\n"
          ],
          "name": "stdout"
        }
      ]
    },
    {
      "cell_type": "code",
      "metadata": {
        "id": "dWnCBgRSHcg3",
        "colab_type": "code",
        "colab": {}
      },
      "source": [
        ""
      ],
      "execution_count": null,
      "outputs": []
    }
  ]
}