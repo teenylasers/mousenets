{
  "nbformat": 4,
  "nbformat_minor": 0,
  "metadata": {
    "colab": {
      "name": "mnist1.ipynb",
      "provenance": [],
      "collapsed_sections": [],
      "mount_file_id": "1LzrXtRuoj6ZTPU4yFCKI43Ju-GbDSYkq",
      "authorship_tag": "ABX9TyNVRqqm+Zdob++1pzms2atK",
      "include_colab_link": true
    },
    "kernelspec": {
      "name": "python3",
      "display_name": "Python 3"
    }
  },
  "cells": [
    {
      "cell_type": "markdown",
      "metadata": {
        "id": "view-in-github",
        "colab_type": "text"
      },
      "source": [
        "<a href=\"https://colab.research.google.com/github/teenylasers/mousenets/blob/master/mnist1.ipynb\" target=\"_parent\"><img src=\"https://colab.research.google.com/assets/colab-badge.svg\" alt=\"Open In Colab\"/></a>"
      ]
    },
    {
      "cell_type": "markdown",
      "metadata": {
        "id": "-GN6Hq9LLPuf",
        "colab_type": "text"
      },
      "source": [
        "#MNIST Classification using Fully Connected Neural Nets\n",
        "\n",
        "This follows the same neural nets as implemented in [mnist0.ipynb](https://colab.research.google.com/drive/1gmXteU_qhI1RP6CDhEoHFcSK_MsYfqZX?authuser=1#scrollTo=Iaxyao85dvcX), but using Keras API for loading data only. The construction and training of the neural nets are custom implementations herein. "
      ]
    },
    {
      "cell_type": "code",
      "metadata": {
        "id": "ns6u-1wBMW6a",
        "colab_type": "code",
        "colab": {}
      },
      "source": [
        "import tensorflow as tf\n",
        "import numpy as np\n",
        "import matplotlib.pyplot as plt\n"
      ],
      "execution_count": 1,
      "outputs": []
    },
    {
      "cell_type": "markdown",
      "metadata": {
        "id": "Bnoa3ENsMf_Q",
        "colab_type": "text"
      },
      "source": [
        "Load the MNIST dataset. "
      ]
    },
    {
      "cell_type": "code",
      "metadata": {
        "id": "vvM3uVcYMadG",
        "colab_type": "code",
        "colab": {
          "base_uri": "https://localhost:8080/",
          "height": 119
        },
        "outputId": "ec9bf86e-13e9-4ea0-eeb5-9fe4ad1a74a4"
      },
      "source": [
        "mnist = tf.keras.datasets.mnist\n",
        "(x_train, y_train), (x_test, y_test) = mnist.load_data()\n",
        "# x_train, x_test: uint8 arrays of grayscale image data with shapes  (num_samples, 28, 28).  \n",
        "# y_train, y_test: uint8 arrays of digit labels (integers in range 0-9) with shapes (num_samples,).  \n",
        "print('x_train (training data) dimensions: ', x_train.shape)\n",
        "print('x_test (test data) dimensions: ', x_test.shape)\n",
        "print('y_train (training labels) dimensions: ', y_train.shape)\n",
        "print('y_test (test labels) dimensions: ', y_test.shape)\n",
        "\n",
        "# Reshape 2D input images into 1D vectors.\n",
        "image_vector_length = x_train.shape[1] * x_train.shape[2]\n",
        "x_train = x_train.reshape(x_train.shape[0],image_vector_length)\n",
        "x_test = x_test.reshape(x_test.shape[0], image_vector_length)\n",
        "print('x_train reshaped dimensions: ', x_train.shape)\n",
        "print('x_test reshaped dimensions: ', x_test.shape)\n",
        "\n",
        "# Transform output training label into one-hot encoded vectors.\n",
        "num_classes = 10;\n",
        "y_train = tf.keras.utils.to_categorical(y_train, num_classes)\n",
        "y_test = tf.keras.utils.to_categorical(y_test, num_classes)"
      ],
      "execution_count": 2,
      "outputs": [
        {
          "output_type": "stream",
          "text": [
            "x_train (training data) dimensions:  (60000, 28, 28)\n",
            "x_test (test data) dimensions:  (10000, 28, 28)\n",
            "y_train (training labels) dimensions:  (60000,)\n",
            "y_test (test labels) dimensions:  (10000,)\n",
            "x_train reshaped dimensions:  (60000, 784)\n",
            "x_test reshaped dimensions:  (10000, 784)\n"
          ],
          "name": "stdout"
        }
      ]
    },
    {
      "cell_type": "code",
      "metadata": {
        "id": "YC-MlwqGB2in",
        "colab_type": "code",
        "colab": {
          "base_uri": "https://localhost:8080/",
          "height": 68
        },
        "outputId": "60cc9989-a978-4360-b2b8-966ef30d7bd5"
      },
      "source": [
        "from google.colab import drive\n",
        "drive.mount('/content/drive', force_remount=True)\n",
        "\n",
        "%cd drive/My\\ Drive/mousenets/mnist\n",
        "%ls"
      ],
      "execution_count": 3,
      "outputs": [
        {
          "output_type": "stream",
          "text": [
            "Mounted at /content/drive\n",
            "/content/drive/My Drive/mousenets/mnist\n",
            "__init__.py  mlp.py  mnist0.ipynb  mnist1.ipynb  \u001b[0m\u001b[01;34m__pycache__\u001b[0m/\n"
          ],
          "name": "stdout"
        }
      ]
    },
    {
      "cell_type": "code",
      "metadata": {
        "id": "ljadyRmgkKtn",
        "colab_type": "code",
        "colab": {
          "base_uri": "https://localhost:8080/",
          "height": 295
        },
        "outputId": "163c7589-4495-4864-84bb-84e12dd0c722"
      },
      "source": [
        "from mlp import *\n",
        "\n",
        "# Construct the MLP\n",
        "l1_width = 32 # the first layer has 32 nodes\n",
        "l2_width = 10 # the second and output layer has 10 nodes\n",
        "mlp = MLP(input_dimension = image_vector_length, output_dimension = num_classes)\n",
        "mlp.add_layer(l1_width, 'sigmoid')\n",
        "mlp.add_layer(l2_width, 'softmax')\n",
        "mlp.define_loss_function('cce')\n",
        "\n",
        "# Train the MLP using sgd\n",
        "trainer = NetTrainer()\n",
        "mlp, loss_history = trainer.sgd(mlp, x_train, y_train, epochs=100, batch_size=32)\n",
        "\n",
        "plt.plot(loss_history)\n",
        "plt.title('model loss')\n",
        "plt.ylabel('loss')\n",
        "plt.xlabel('epoch')\n",
        "plt.show()\n"
      ],
      "execution_count": 8,
      "outputs": [
        {
          "output_type": "display_data",
          "data": {
            "image/png": "[encoded data removed]",
            "text/plain": [
              "<Figure size 432x288 with 1 Axes>"
            ]
          },
          "metadata": {
            "tags": [],
            "needs_background": "light"
          }
        }
      ]
    },
    {
      "cell_type": "code",
      "metadata": {
        "id": "NnE6vHpjOlYW",
        "colab_type": "code",
        "colab": {
          "base_uri": "https://localhost:8080/",
          "height": 34
        },
        "outputId": "c2130f58-cefc-4b2a-ff0b-e560df2cf2a6"
      },
      "source": [
        "# Evaluate the trained MLP\n",
        "eval_results = trainer.evaluate(mlp, x_test, y_test)\n",
        "print('Validation loss = ', eval_results)"
      ],
      "execution_count": 9,
      "outputs": [
        {
          "output_type": "stream",
          "text": [
            "Validation loss =  (0.7647, 0.7464954344032262)\n"
          ],
          "name": "stdout"
        }
      ]
    },
    {
      "cell_type": "code",
      "metadata": {
        "id": "GAQWewAhLyZr",
        "colab_type": "code",
        "colab": {}
      },
      "source": [
        ""
      ],
      "execution_count": null,
      "outputs": []
    }
  ]
}